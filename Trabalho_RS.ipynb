{
 "cells": [
  {
   "cell_type": "code",
   "execution_count": 5,
   "metadata": {},
   "outputs": [],
   "source": [
    "import numpy as np\n",
    "\n",
    "import pandas as pd\n",
    "\n",
    "import seaborn as sns\n",
    "\n",
    "import matplotlib.pyplot as plt\n",
    "\n",
    "from sklearn.preprocessing import StandardScaler\n",
    "\n",
    "from sklearn.preprocessing import LabelEncoder\n",
    "\n",
    "from sklearn.model_selection import train_test_split\n",
    "\n",
    "from sklearn.model_selection import GridSearchCV\n",
    "\n",
    "from sklearn.metrics import accuracy_score, confusion_matrix\n",
    "\n",
    "from sklearn import svm\n",
    "\n",
    "import sklearn\n",
    "\n",
    "import matplotlib\n",
    "\n",
    "import warnings "
   ]
  },
  {
   "cell_type": "code",
   "execution_count": 6,
   "metadata": {},
   "outputs": [
    {
     "data": {
      "text/html": [
       "<div>\n",
       "<style scoped>\n",
       "    .dataframe tbody tr th:only-of-type {\n",
       "        vertical-align: middle;\n",
       "    }\n",
       "\n",
       "    .dataframe tbody tr th {\n",
       "        vertical-align: top;\n",
       "    }\n",
       "\n",
       "    .dataframe thead th {\n",
       "        text-align: right;\n",
       "    }\n",
       "</style>\n",
       "<table border=\"1\" class=\"dataframe\">\n",
       "  <thead>\n",
       "    <tr style=\"text-align: right;\">\n",
       "      <th></th>\n",
       "      <th>Administrative</th>\n",
       "      <th>Administrative_Duration</th>\n",
       "      <th>Informational</th>\n",
       "      <th>Informational_Duration</th>\n",
       "      <th>ProductRelated</th>\n",
       "      <th>ProductRelated_Duration</th>\n",
       "      <th>BounceRates</th>\n",
       "      <th>ExitRates</th>\n",
       "      <th>PageValues</th>\n",
       "      <th>SpecialDay</th>\n",
       "      <th>Month</th>\n",
       "      <th>OperatingSystems</th>\n",
       "      <th>Browser</th>\n",
       "      <th>Region</th>\n",
       "      <th>TrafficType</th>\n",
       "      <th>VisitorType</th>\n",
       "      <th>Weekend</th>\n",
       "      <th>Revenue</th>\n",
       "    </tr>\n",
       "  </thead>\n",
       "  <tbody>\n",
       "    <tr>\n",
       "      <th>0</th>\n",
       "      <td>0.0</td>\n",
       "      <td>0.0</td>\n",
       "      <td>0.0</td>\n",
       "      <td>0.0</td>\n",
       "      <td>1.0</td>\n",
       "      <td>0.000000</td>\n",
       "      <td>0.200000</td>\n",
       "      <td>0.200000</td>\n",
       "      <td>0.000000</td>\n",
       "      <td>0.0</td>\n",
       "      <td>Feb</td>\n",
       "      <td>1</td>\n",
       "      <td>1</td>\n",
       "      <td>1</td>\n",
       "      <td>1</td>\n",
       "      <td>Returning_Visitor</td>\n",
       "      <td>False</td>\n",
       "      <td>False</td>\n",
       "    </tr>\n",
       "    <tr>\n",
       "      <th>1</th>\n",
       "      <td>0.0</td>\n",
       "      <td>0.0</td>\n",
       "      <td>0.0</td>\n",
       "      <td>0.0</td>\n",
       "      <td>2.0</td>\n",
       "      <td>64.000000</td>\n",
       "      <td>0.000000</td>\n",
       "      <td>0.100000</td>\n",
       "      <td>0.000000</td>\n",
       "      <td>0.0</td>\n",
       "      <td>Feb</td>\n",
       "      <td>2</td>\n",
       "      <td>2</td>\n",
       "      <td>1</td>\n",
       "      <td>2</td>\n",
       "      <td>Returning_Visitor</td>\n",
       "      <td>False</td>\n",
       "      <td>False</td>\n",
       "    </tr>\n",
       "    <tr>\n",
       "      <th>2</th>\n",
       "      <td>0.0</td>\n",
       "      <td>-1.0</td>\n",
       "      <td>0.0</td>\n",
       "      <td>-1.0</td>\n",
       "      <td>1.0</td>\n",
       "      <td>-1.000000</td>\n",
       "      <td>0.200000</td>\n",
       "      <td>0.200000</td>\n",
       "      <td>0.000000</td>\n",
       "      <td>0.0</td>\n",
       "      <td>Feb</td>\n",
       "      <td>4</td>\n",
       "      <td>1</td>\n",
       "      <td>9</td>\n",
       "      <td>3</td>\n",
       "      <td>Returning_Visitor</td>\n",
       "      <td>False</td>\n",
       "      <td>False</td>\n",
       "    </tr>\n",
       "    <tr>\n",
       "      <th>3</th>\n",
       "      <td>0.0</td>\n",
       "      <td>0.0</td>\n",
       "      <td>0.0</td>\n",
       "      <td>0.0</td>\n",
       "      <td>2.0</td>\n",
       "      <td>2.666667</td>\n",
       "      <td>0.050000</td>\n",
       "      <td>0.140000</td>\n",
       "      <td>0.000000</td>\n",
       "      <td>0.0</td>\n",
       "      <td>Feb</td>\n",
       "      <td>3</td>\n",
       "      <td>2</td>\n",
       "      <td>2</td>\n",
       "      <td>4</td>\n",
       "      <td>Returning_Visitor</td>\n",
       "      <td>False</td>\n",
       "      <td>False</td>\n",
       "    </tr>\n",
       "    <tr>\n",
       "      <th>4</th>\n",
       "      <td>0.0</td>\n",
       "      <td>0.0</td>\n",
       "      <td>0.0</td>\n",
       "      <td>0.0</td>\n",
       "      <td>10.0</td>\n",
       "      <td>627.500000</td>\n",
       "      <td>0.020000</td>\n",
       "      <td>0.050000</td>\n",
       "      <td>0.000000</td>\n",
       "      <td>0.0</td>\n",
       "      <td>Feb</td>\n",
       "      <td>3</td>\n",
       "      <td>3</td>\n",
       "      <td>1</td>\n",
       "      <td>4</td>\n",
       "      <td>Returning_Visitor</td>\n",
       "      <td>True</td>\n",
       "      <td>False</td>\n",
       "    </tr>\n",
       "    <tr>\n",
       "      <th>...</th>\n",
       "      <td>...</td>\n",
       "      <td>...</td>\n",
       "      <td>...</td>\n",
       "      <td>...</td>\n",
       "      <td>...</td>\n",
       "      <td>...</td>\n",
       "      <td>...</td>\n",
       "      <td>...</td>\n",
       "      <td>...</td>\n",
       "      <td>...</td>\n",
       "      <td>...</td>\n",
       "      <td>...</td>\n",
       "      <td>...</td>\n",
       "      <td>...</td>\n",
       "      <td>...</td>\n",
       "      <td>...</td>\n",
       "      <td>...</td>\n",
       "      <td>...</td>\n",
       "    </tr>\n",
       "    <tr>\n",
       "      <th>12325</th>\n",
       "      <td>3.0</td>\n",
       "      <td>145.0</td>\n",
       "      <td>0.0</td>\n",
       "      <td>0.0</td>\n",
       "      <td>53.0</td>\n",
       "      <td>1783.791667</td>\n",
       "      <td>0.007143</td>\n",
       "      <td>0.029031</td>\n",
       "      <td>12.241717</td>\n",
       "      <td>0.0</td>\n",
       "      <td>Dec</td>\n",
       "      <td>4</td>\n",
       "      <td>6</td>\n",
       "      <td>1</td>\n",
       "      <td>1</td>\n",
       "      <td>Returning_Visitor</td>\n",
       "      <td>True</td>\n",
       "      <td>False</td>\n",
       "    </tr>\n",
       "    <tr>\n",
       "      <th>12326</th>\n",
       "      <td>0.0</td>\n",
       "      <td>0.0</td>\n",
       "      <td>0.0</td>\n",
       "      <td>0.0</td>\n",
       "      <td>5.0</td>\n",
       "      <td>465.750000</td>\n",
       "      <td>0.000000</td>\n",
       "      <td>0.021333</td>\n",
       "      <td>0.000000</td>\n",
       "      <td>0.0</td>\n",
       "      <td>Nov</td>\n",
       "      <td>3</td>\n",
       "      <td>2</td>\n",
       "      <td>1</td>\n",
       "      <td>8</td>\n",
       "      <td>Returning_Visitor</td>\n",
       "      <td>True</td>\n",
       "      <td>False</td>\n",
       "    </tr>\n",
       "    <tr>\n",
       "      <th>12327</th>\n",
       "      <td>0.0</td>\n",
       "      <td>0.0</td>\n",
       "      <td>0.0</td>\n",
       "      <td>0.0</td>\n",
       "      <td>6.0</td>\n",
       "      <td>184.250000</td>\n",
       "      <td>0.083333</td>\n",
       "      <td>0.086667</td>\n",
       "      <td>0.000000</td>\n",
       "      <td>0.0</td>\n",
       "      <td>Nov</td>\n",
       "      <td>3</td>\n",
       "      <td>2</td>\n",
       "      <td>1</td>\n",
       "      <td>13</td>\n",
       "      <td>Returning_Visitor</td>\n",
       "      <td>True</td>\n",
       "      <td>False</td>\n",
       "    </tr>\n",
       "    <tr>\n",
       "      <th>12328</th>\n",
       "      <td>4.0</td>\n",
       "      <td>75.0</td>\n",
       "      <td>0.0</td>\n",
       "      <td>0.0</td>\n",
       "      <td>15.0</td>\n",
       "      <td>346.000000</td>\n",
       "      <td>0.000000</td>\n",
       "      <td>0.021053</td>\n",
       "      <td>0.000000</td>\n",
       "      <td>0.0</td>\n",
       "      <td>Nov</td>\n",
       "      <td>2</td>\n",
       "      <td>2</td>\n",
       "      <td>3</td>\n",
       "      <td>11</td>\n",
       "      <td>Returning_Visitor</td>\n",
       "      <td>False</td>\n",
       "      <td>False</td>\n",
       "    </tr>\n",
       "    <tr>\n",
       "      <th>12329</th>\n",
       "      <td>0.0</td>\n",
       "      <td>0.0</td>\n",
       "      <td>0.0</td>\n",
       "      <td>0.0</td>\n",
       "      <td>3.0</td>\n",
       "      <td>21.250000</td>\n",
       "      <td>0.000000</td>\n",
       "      <td>0.066667</td>\n",
       "      <td>0.000000</td>\n",
       "      <td>0.0</td>\n",
       "      <td>Nov</td>\n",
       "      <td>3</td>\n",
       "      <td>2</td>\n",
       "      <td>1</td>\n",
       "      <td>2</td>\n",
       "      <td>New_Visitor</td>\n",
       "      <td>True</td>\n",
       "      <td>False</td>\n",
       "    </tr>\n",
       "  </tbody>\n",
       "</table>\n",
       "<p>12330 rows × 18 columns</p>\n",
       "</div>"
      ],
      "text/plain": [
       "       Administrative  Administrative_Duration  Informational  \\\n",
       "0                 0.0                      0.0            0.0   \n",
       "1                 0.0                      0.0            0.0   \n",
       "2                 0.0                     -1.0            0.0   \n",
       "3                 0.0                      0.0            0.0   \n",
       "4                 0.0                      0.0            0.0   \n",
       "...               ...                      ...            ...   \n",
       "12325             3.0                    145.0            0.0   \n",
       "12326             0.0                      0.0            0.0   \n",
       "12327             0.0                      0.0            0.0   \n",
       "12328             4.0                     75.0            0.0   \n",
       "12329             0.0                      0.0            0.0   \n",
       "\n",
       "       Informational_Duration  ProductRelated  ProductRelated_Duration  \\\n",
       "0                         0.0             1.0                 0.000000   \n",
       "1                         0.0             2.0                64.000000   \n",
       "2                        -1.0             1.0                -1.000000   \n",
       "3                         0.0             2.0                 2.666667   \n",
       "4                         0.0            10.0               627.500000   \n",
       "...                       ...             ...                      ...   \n",
       "12325                     0.0            53.0              1783.791667   \n",
       "12326                     0.0             5.0               465.750000   \n",
       "12327                     0.0             6.0               184.250000   \n",
       "12328                     0.0            15.0               346.000000   \n",
       "12329                     0.0             3.0                21.250000   \n",
       "\n",
       "       BounceRates  ExitRates  PageValues  SpecialDay Month  OperatingSystems  \\\n",
       "0         0.200000   0.200000    0.000000         0.0   Feb                 1   \n",
       "1         0.000000   0.100000    0.000000         0.0   Feb                 2   \n",
       "2         0.200000   0.200000    0.000000         0.0   Feb                 4   \n",
       "3         0.050000   0.140000    0.000000         0.0   Feb                 3   \n",
       "4         0.020000   0.050000    0.000000         0.0   Feb                 3   \n",
       "...            ...        ...         ...         ...   ...               ...   \n",
       "12325     0.007143   0.029031   12.241717         0.0   Dec                 4   \n",
       "12326     0.000000   0.021333    0.000000         0.0   Nov                 3   \n",
       "12327     0.083333   0.086667    0.000000         0.0   Nov                 3   \n",
       "12328     0.000000   0.021053    0.000000         0.0   Nov                 2   \n",
       "12329     0.000000   0.066667    0.000000         0.0   Nov                 3   \n",
       "\n",
       "       Browser  Region  TrafficType        VisitorType  Weekend  Revenue  \n",
       "0            1       1            1  Returning_Visitor    False    False  \n",
       "1            2       1            2  Returning_Visitor    False    False  \n",
       "2            1       9            3  Returning_Visitor    False    False  \n",
       "3            2       2            4  Returning_Visitor    False    False  \n",
       "4            3       1            4  Returning_Visitor     True    False  \n",
       "...        ...     ...          ...                ...      ...      ...  \n",
       "12325        6       1            1  Returning_Visitor     True    False  \n",
       "12326        2       1            8  Returning_Visitor     True    False  \n",
       "12327        2       1           13  Returning_Visitor     True    False  \n",
       "12328        2       3           11  Returning_Visitor    False    False  \n",
       "12329        2       1            2        New_Visitor     True    False  \n",
       "\n",
       "[12330 rows x 18 columns]"
      ]
     },
     "execution_count": 6,
     "metadata": {},
     "output_type": "execute_result"
    }
   ],
   "source": [
    "df_original = pd.read_csv('online_shoppers_intention.csv')\n",
    "df_original"
   ]
  },
  {
   "cell_type": "code",
   "execution_count": 7,
   "metadata": {},
   "outputs": [
    {
     "name": "stdout",
     "output_type": "stream",
     "text": [
      "Administrative             14\n",
      "Administrative_Duration    14\n",
      "Informational              14\n",
      "Informational_Duration     14\n",
      "ProductRelated             14\n",
      "ProductRelated_Duration    14\n",
      "BounceRates                14\n",
      "ExitRates                  14\n",
      "PageValues                  0\n",
      "SpecialDay                  0\n",
      "Month                       0\n",
      "OperatingSystems            0\n",
      "Browser                     0\n",
      "Region                      0\n",
      "TrafficType                 0\n",
      "VisitorType                 0\n",
      "Weekend                     0\n",
      "Revenue                     0\n",
      "dtype: int64\n"
     ]
    }
   ],
   "source": [
    "print(df_original.isna().sum())"
   ]
  },
  {
   "cell_type": "code",
   "execution_count": 8,
   "metadata": {},
   "outputs": [],
   "source": [
    "df_original = df_original.dropna(how='any')"
   ]
  },
  {
   "cell_type": "code",
   "execution_count": 9,
   "metadata": {},
   "outputs": [
    {
     "name": "stdout",
     "output_type": "stream",
     "text": [
      "Administrative             0\n",
      "Administrative_Duration    0\n",
      "Informational              0\n",
      "Informational_Duration     0\n",
      "ProductRelated             0\n",
      "ProductRelated_Duration    0\n",
      "BounceRates                0\n",
      "ExitRates                  0\n",
      "PageValues                 0\n",
      "SpecialDay                 0\n",
      "Month                      0\n",
      "OperatingSystems           0\n",
      "Browser                    0\n",
      "Region                     0\n",
      "TrafficType                0\n",
      "VisitorType                0\n",
      "Weekend                    0\n",
      "Revenue                    0\n",
      "dtype: int64\n"
     ]
    }
   ],
   "source": [
    "print(df_original.isna().sum())"
   ]
  },
  {
   "cell_type": "code",
   "execution_count": 10,
   "metadata": {},
   "outputs": [
    {
     "name": "stderr",
     "output_type": "stream",
     "text": [
      "c:\\Users\\Familia\\anaconda3\\lib\\site-packages\\seaborn\\_decorators.py:36: FutureWarning: Pass the following variable as a keyword arg: x. From version 0.12, the only valid positional argument will be `data`, and passing other arguments without an explicit keyword will result in an error or misinterpretation.\n",
      "  warnings.warn(\n"
     ]
    },
    {
     "data": {
      "text/plain": [
       "<AxesSubplot:title={'center':'Venda ou Náo Venda'}, xlabel='Revenue', ylabel='count'>"
      ]
     },
     "execution_count": 10,
     "metadata": {},
     "output_type": "execute_result"
    },
    {
     "data": {
      "image/png": "[encoded data removed]",
      "text/plain": [
       "<Figure size 432x288 with 1 Axes>"
      ]
     },
     "metadata": {
      "needs_background": "light"
     },
     "output_type": "display_data"
    }
   ],
   "source": [
    "plt.subplot(1,2,2)\n",
    "plt.title(\"Venda ou Náo Venda\")\n",
    "sns.countplot(df_original['Revenue'])"
   ]
  },
  {
   "cell_type": "code",
   "execution_count": 11,
   "metadata": {},
   "outputs": [
    {
     "name": "stderr",
     "output_type": "stream",
     "text": [
      "C:\\Users\\Familia\\AppData\\Local\\Temp\\ipykernel_12928\\723895963.py:2: SettingWithCopyWarning: \n",
      "A value is trying to be set on a copy of a slice from a DataFrame.\n",
      "Try using .loc[row_indexer,col_indexer] = value instead\n",
      "\n",
      "See the caveats in the documentation: https://pandas.pydata.org/pandas-docs/stable/user_guide/indexing.html#returning-a-view-versus-a-copy\n",
      "  df_original['Month'] = lb.fit_transform(df_original['Month'])\n",
      "C:\\Users\\Familia\\AppData\\Local\\Temp\\ipykernel_12928\\723895963.py:3: SettingWithCopyWarning: \n",
      "A value is trying to be set on a copy of a slice from a DataFrame.\n",
      "Try using .loc[row_indexer,col_indexer] = value instead\n",
      "\n",
      "See the caveats in the documentation: https://pandas.pydata.org/pandas-docs/stable/user_guide/indexing.html#returning-a-view-versus-a-copy\n",
      "  df_original['VisitorType'] = lb.fit_transform(df_original['VisitorType']) #para voltar só rodar novamente\n"
     ]
    },
    {
     "data": {
      "text/html": [
       "<div>\n",
       "<style scoped>\n",
       "    .dataframe tbody tr th:only-of-type {\n",
       "        vertical-align: middle;\n",
       "    }\n",
       "\n",
       "    .dataframe tbody tr th {\n",
       "        vertical-align: top;\n",
       "    }\n",
       "\n",
       "    .dataframe thead th {\n",
       "        text-align: right;\n",
       "    }\n",
       "</style>\n",
       "<table border=\"1\" class=\"dataframe\">\n",
       "  <thead>\n",
       "    <tr style=\"text-align: right;\">\n",
       "      <th></th>\n",
       "      <th>Administrative</th>\n",
       "      <th>Administrative_Duration</th>\n",
       "      <th>Informational</th>\n",
       "      <th>Informational_Duration</th>\n",
       "      <th>ProductRelated</th>\n",
       "      <th>ProductRelated_Duration</th>\n",
       "      <th>BounceRates</th>\n",
       "      <th>ExitRates</th>\n",
       "      <th>PageValues</th>\n",
       "      <th>SpecialDay</th>\n",
       "      <th>Month</th>\n",
       "      <th>OperatingSystems</th>\n",
       "      <th>Browser</th>\n",
       "      <th>Region</th>\n",
       "      <th>TrafficType</th>\n",
       "      <th>VisitorType</th>\n",
       "      <th>Weekend</th>\n",
       "      <th>Revenue</th>\n",
       "    </tr>\n",
       "  </thead>\n",
       "  <tbody>\n",
       "    <tr>\n",
       "      <th>0</th>\n",
       "      <td>0.0</td>\n",
       "      <td>0.0</td>\n",
       "      <td>0.0</td>\n",
       "      <td>0.0</td>\n",
       "      <td>1.0</td>\n",
       "      <td>0.000000</td>\n",
       "      <td>0.200000</td>\n",
       "      <td>0.200000</td>\n",
       "      <td>0.000000</td>\n",
       "      <td>0.0</td>\n",
       "      <td>2</td>\n",
       "      <td>1</td>\n",
       "      <td>1</td>\n",
       "      <td>1</td>\n",
       "      <td>1</td>\n",
       "      <td>2</td>\n",
       "      <td>False</td>\n",
       "      <td>False</td>\n",
       "    </tr>\n",
       "    <tr>\n",
       "      <th>1</th>\n",
       "      <td>0.0</td>\n",
       "      <td>0.0</td>\n",
       "      <td>0.0</td>\n",
       "      <td>0.0</td>\n",
       "      <td>2.0</td>\n",
       "      <td>64.000000</td>\n",
       "      <td>0.000000</td>\n",
       "      <td>0.100000</td>\n",
       "      <td>0.000000</td>\n",
       "      <td>0.0</td>\n",
       "      <td>2</td>\n",
       "      <td>2</td>\n",
       "      <td>2</td>\n",
       "      <td>1</td>\n",
       "      <td>2</td>\n",
       "      <td>2</td>\n",
       "      <td>False</td>\n",
       "      <td>False</td>\n",
       "    </tr>\n",
       "    <tr>\n",
       "      <th>2</th>\n",
       "      <td>0.0</td>\n",
       "      <td>-1.0</td>\n",
       "      <td>0.0</td>\n",
       "      <td>-1.0</td>\n",
       "      <td>1.0</td>\n",
       "      <td>-1.000000</td>\n",
       "      <td>0.200000</td>\n",
       "      <td>0.200000</td>\n",
       "      <td>0.000000</td>\n",
       "      <td>0.0</td>\n",
       "      <td>2</td>\n",
       "      <td>4</td>\n",
       "      <td>1</td>\n",
       "      <td>9</td>\n",
       "      <td>3</td>\n",
       "      <td>2</td>\n",
       "      <td>False</td>\n",
       "      <td>False</td>\n",
       "    </tr>\n",
       "    <tr>\n",
       "      <th>3</th>\n",
       "      <td>0.0</td>\n",
       "      <td>0.0</td>\n",
       "      <td>0.0</td>\n",
       "      <td>0.0</td>\n",
       "      <td>2.0</td>\n",
       "      <td>2.666667</td>\n",
       "      <td>0.050000</td>\n",
       "      <td>0.140000</td>\n",
       "      <td>0.000000</td>\n",
       "      <td>0.0</td>\n",
       "      <td>2</td>\n",
       "      <td>3</td>\n",
       "      <td>2</td>\n",
       "      <td>2</td>\n",
       "      <td>4</td>\n",
       "      <td>2</td>\n",
       "      <td>False</td>\n",
       "      <td>False</td>\n",
       "    </tr>\n",
       "    <tr>\n",
       "      <th>4</th>\n",
       "      <td>0.0</td>\n",
       "      <td>0.0</td>\n",
       "      <td>0.0</td>\n",
       "      <td>0.0</td>\n",
       "      <td>10.0</td>\n",
       "      <td>627.500000</td>\n",
       "      <td>0.020000</td>\n",
       "      <td>0.050000</td>\n",
       "      <td>0.000000</td>\n",
       "      <td>0.0</td>\n",
       "      <td>2</td>\n",
       "      <td>3</td>\n",
       "      <td>3</td>\n",
       "      <td>1</td>\n",
       "      <td>4</td>\n",
       "      <td>2</td>\n",
       "      <td>True</td>\n",
       "      <td>False</td>\n",
       "    </tr>\n",
       "    <tr>\n",
       "      <th>...</th>\n",
       "      <td>...</td>\n",
       "      <td>...</td>\n",
       "      <td>...</td>\n",
       "      <td>...</td>\n",
       "      <td>...</td>\n",
       "      <td>...</td>\n",
       "      <td>...</td>\n",
       "      <td>...</td>\n",
       "      <td>...</td>\n",
       "      <td>...</td>\n",
       "      <td>...</td>\n",
       "      <td>...</td>\n",
       "      <td>...</td>\n",
       "      <td>...</td>\n",
       "      <td>...</td>\n",
       "      <td>...</td>\n",
       "      <td>...</td>\n",
       "      <td>...</td>\n",
       "    </tr>\n",
       "    <tr>\n",
       "      <th>12325</th>\n",
       "      <td>3.0</td>\n",
       "      <td>145.0</td>\n",
       "      <td>0.0</td>\n",
       "      <td>0.0</td>\n",
       "      <td>53.0</td>\n",
       "      <td>1783.791667</td>\n",
       "      <td>0.007143</td>\n",
       "      <td>0.029031</td>\n",
       "      <td>12.241717</td>\n",
       "      <td>0.0</td>\n",
       "      <td>1</td>\n",
       "      <td>4</td>\n",
       "      <td>6</td>\n",
       "      <td>1</td>\n",
       "      <td>1</td>\n",
       "      <td>2</td>\n",
       "      <td>True</td>\n",
       "      <td>False</td>\n",
       "    </tr>\n",
       "    <tr>\n",
       "      <th>12326</th>\n",
       "      <td>0.0</td>\n",
       "      <td>0.0</td>\n",
       "      <td>0.0</td>\n",
       "      <td>0.0</td>\n",
       "      <td>5.0</td>\n",
       "      <td>465.750000</td>\n",
       "      <td>0.000000</td>\n",
       "      <td>0.021333</td>\n",
       "      <td>0.000000</td>\n",
       "      <td>0.0</td>\n",
       "      <td>7</td>\n",
       "      <td>3</td>\n",
       "      <td>2</td>\n",
       "      <td>1</td>\n",
       "      <td>8</td>\n",
       "      <td>2</td>\n",
       "      <td>True</td>\n",
       "      <td>False</td>\n",
       "    </tr>\n",
       "    <tr>\n",
       "      <th>12327</th>\n",
       "      <td>0.0</td>\n",
       "      <td>0.0</td>\n",
       "      <td>0.0</td>\n",
       "      <td>0.0</td>\n",
       "      <td>6.0</td>\n",
       "      <td>184.250000</td>\n",
       "      <td>0.083333</td>\n",
       "      <td>0.086667</td>\n",
       "      <td>0.000000</td>\n",
       "      <td>0.0</td>\n",
       "      <td>7</td>\n",
       "      <td>3</td>\n",
       "      <td>2</td>\n",
       "      <td>1</td>\n",
       "      <td>13</td>\n",
       "      <td>2</td>\n",
       "      <td>True</td>\n",
       "      <td>False</td>\n",
       "    </tr>\n",
       "    <tr>\n",
       "      <th>12328</th>\n",
       "      <td>4.0</td>\n",
       "      <td>75.0</td>\n",
       "      <td>0.0</td>\n",
       "      <td>0.0</td>\n",
       "      <td>15.0</td>\n",
       "      <td>346.000000</td>\n",
       "      <td>0.000000</td>\n",
       "      <td>0.021053</td>\n",
       "      <td>0.000000</td>\n",
       "      <td>0.0</td>\n",
       "      <td>7</td>\n",
       "      <td>2</td>\n",
       "      <td>2</td>\n",
       "      <td>3</td>\n",
       "      <td>11</td>\n",
       "      <td>2</td>\n",
       "      <td>False</td>\n",
       "      <td>False</td>\n",
       "    </tr>\n",
       "    <tr>\n",
       "      <th>12329</th>\n",
       "      <td>0.0</td>\n",
       "      <td>0.0</td>\n",
       "      <td>0.0</td>\n",
       "      <td>0.0</td>\n",
       "      <td>3.0</td>\n",
       "      <td>21.250000</td>\n",
       "      <td>0.000000</td>\n",
       "      <td>0.066667</td>\n",
       "      <td>0.000000</td>\n",
       "      <td>0.0</td>\n",
       "      <td>7</td>\n",
       "      <td>3</td>\n",
       "      <td>2</td>\n",
       "      <td>1</td>\n",
       "      <td>2</td>\n",
       "      <td>0</td>\n",
       "      <td>True</td>\n",
       "      <td>False</td>\n",
       "    </tr>\n",
       "  </tbody>\n",
       "</table>\n",
       "<p>12316 rows × 18 columns</p>\n",
       "</div>"
      ],
      "text/plain": [
       "       Administrative  Administrative_Duration  Informational  \\\n",
       "0                 0.0                      0.0            0.0   \n",
       "1                 0.0                      0.0            0.0   \n",
       "2                 0.0                     -1.0            0.0   \n",
       "3                 0.0                      0.0            0.0   \n",
       "4                 0.0                      0.0            0.0   \n",
       "...               ...                      ...            ...   \n",
       "12325             3.0                    145.0            0.0   \n",
       "12326             0.0                      0.0            0.0   \n",
       "12327             0.0                      0.0            0.0   \n",
       "12328             4.0                     75.0            0.0   \n",
       "12329             0.0                      0.0            0.0   \n",
       "\n",
       "       Informational_Duration  ProductRelated  ProductRelated_Duration  \\\n",
       "0                         0.0             1.0                 0.000000   \n",
       "1                         0.0             2.0                64.000000   \n",
       "2                        -1.0             1.0                -1.000000   \n",
       "3                         0.0             2.0                 2.666667   \n",
       "4                         0.0            10.0               627.500000   \n",
       "...                       ...             ...                      ...   \n",
       "12325                     0.0            53.0              1783.791667   \n",
       "12326                     0.0             5.0               465.750000   \n",
       "12327                     0.0             6.0               184.250000   \n",
       "12328                     0.0            15.0               346.000000   \n",
       "12329                     0.0             3.0                21.250000   \n",
       "\n",
       "       BounceRates  ExitRates  PageValues  SpecialDay  Month  \\\n",
       "0         0.200000   0.200000    0.000000         0.0      2   \n",
       "1         0.000000   0.100000    0.000000         0.0      2   \n",
       "2         0.200000   0.200000    0.000000         0.0      2   \n",
       "3         0.050000   0.140000    0.000000         0.0      2   \n",
       "4         0.020000   0.050000    0.000000         0.0      2   \n",
       "...            ...        ...         ...         ...    ...   \n",
       "12325     0.007143   0.029031   12.241717         0.0      1   \n",
       "12326     0.000000   0.021333    0.000000         0.0      7   \n",
       "12327     0.083333   0.086667    0.000000         0.0      7   \n",
       "12328     0.000000   0.021053    0.000000         0.0      7   \n",
       "12329     0.000000   0.066667    0.000000         0.0      7   \n",
       "\n",
       "       OperatingSystems  Browser  Region  TrafficType  VisitorType  Weekend  \\\n",
       "0                     1        1       1            1            2    False   \n",
       "1                     2        2       1            2            2    False   \n",
       "2                     4        1       9            3            2    False   \n",
       "3                     3        2       2            4            2    False   \n",
       "4                     3        3       1            4            2     True   \n",
       "...                 ...      ...     ...          ...          ...      ...   \n",
       "12325                 4        6       1            1            2     True   \n",
       "12326                 3        2       1            8            2     True   \n",
       "12327                 3        2       1           13            2     True   \n",
       "12328                 2        2       3           11            2    False   \n",
       "12329                 3        2       1            2            0     True   \n",
       "\n",
       "       Revenue  \n",
       "0        False  \n",
       "1        False  \n",
       "2        False  \n",
       "3        False  \n",
       "4        False  \n",
       "...        ...  \n",
       "12325    False  \n",
       "12326    False  \n",
       "12327    False  \n",
       "12328    False  \n",
       "12329    False  \n",
       "\n",
       "[12316 rows x 18 columns]"
      ]
     },
     "execution_count": 11,
     "metadata": {},
     "output_type": "execute_result"
    }
   ],
   "source": [
    "lb= LabelEncoder()\n",
    "df_original['Month'] = lb.fit_transform(df_original['Month'])\n",
    "df_original['VisitorType'] = lb.fit_transform(df_original['VisitorType']) #para voltar só rodar novamente\n",
    "df_original"
   ]
  },
  {
   "cell_type": "code",
   "execution_count": 12,
   "metadata": {},
   "outputs": [
    {
     "name": "stdout",
     "output_type": "stream",
     "text": [
      "Requirement already satisfied: imblearn in c:\\users\\familia\\anaconda3\\lib\\site-packages (0.0)\n",
      "Requirement already satisfied: imbalanced-learn in c:\\users\\familia\\anaconda3\\lib\\site-packages (from imblearn) (0.9.1)\n",
      "Requirement already satisfied: numpy>=1.17.3 in c:\\users\\familia\\anaconda3\\lib\\site-packages (from imbalanced-learn->imblearn) (1.21.5)\n",
      "Requirement already satisfied: joblib>=1.0.0 in c:\\users\\familia\\anaconda3\\lib\\site-packages (from imbalanced-learn->imblearn) (1.1.0)\n",
      "Requirement already satisfied: scipy>=1.3.2 in c:\\users\\familia\\anaconda3\\lib\\site-packages (from imbalanced-learn->imblearn) (1.7.3)\n",
      "Requirement already satisfied: scikit-learn>=1.1.0 in c:\\users\\familia\\anaconda3\\lib\\site-packages (from imbalanced-learn->imblearn) (1.1.1)\n",
      "Requirement already satisfied: threadpoolctl>=2.0.0 in c:\\users\\familia\\anaconda3\\lib\\site-packages (from imbalanced-learn->imblearn) (2.2.0)\n",
      "Note: you may need to restart the kernel to use updated packages.\n"
     ]
    }
   ],
   "source": [
    "pip install imblearn"
   ]
  },
  {
   "cell_type": "code",
   "execution_count": 13,
   "metadata": {},
   "outputs": [
    {
     "name": "stderr",
     "output_type": "stream",
     "text": [
      "c:\\Users\\Familia\\anaconda3\\lib\\site-packages\\seaborn\\_decorators.py:36: FutureWarning: Pass the following variable as a keyword arg: x. From version 0.12, the only valid positional argument will be `data`, and passing other arguments without an explicit keyword will result in an error or misinterpretation.\n",
      "  warnings.warn(\n"
     ]
    },
    {
     "data": {
      "image/png": "[encoded data removed]",
      "text/plain": [
       "<Figure size 432x288 with 1 Axes>"
      ]
     },
     "metadata": {
      "needs_background": "light"
     },
     "output_type": "display_data"
    }
   ],
   "source": [
    "import imblearn \n",
    "from imblearn.over_sampling import SMOTE\n",
    "\n",
    "seed = 42\n",
    "\n",
    "X = df_original.iloc[:,0:17]\n",
    "y = df_original.iloc[:,17]\n",
    "\n",
    "smote_bal = SMOTE(random_state=seed) #instanciei a classe smote com a semente\n",
    "\n",
    "Xres, yres = smote_bal.fit_resample(X,y)\n",
    "\n",
    "X= Xres\n",
    "y= yres\n",
    "\n",
    "sns.countplot(y, palette='OrRd')\n",
    "plt.box(False)\n",
    "plt.show()"
   ]
  },
  {
   "cell_type": "code",
   "execution_count": 14,
   "metadata": {},
   "outputs": [
    {
     "name": "stdout",
     "output_type": "stream",
     "text": [
      "(20816, 17)\n",
      "(20816,)\n"
     ]
    }
   ],
   "source": [
    "print(X.shape)\n",
    "print(y.shape)"
   ]
  },
  {
   "cell_type": "code",
   "execution_count": 15,
   "metadata": {},
   "outputs": [],
   "source": [
    "X_treino, X_teste, y_treino, y_teste = train_test_split(X,y, test_size=0.3, random_state=42)\n",
    "#cria a amostra para treino e a teste"
   ]
  },
  {
   "cell_type": "code",
   "execution_count": 16,
   "metadata": {},
   "outputs": [],
   "source": [
    "sc = StandardScaler() #encapsular o scaler\n",
    "X_treino_scaled = sc.fit_transform(X_treino) #normaliza X treino\n",
    "X_teste_scaled = sc.transform(X_teste) #normalmente nao se faz o fit na base teste, usa-se a formula fit do treino no teste\n",
    "#fit_transform no treino, transform no teste"
   ]
  },
  {
   "cell_type": "code",
   "execution_count": 17,
   "metadata": {},
   "outputs": [],
   "source": [
    "model = svm.SVC(kernel='linear')"
   ]
  },
  {
   "cell_type": "code",
   "execution_count": 18,
   "metadata": {},
   "outputs": [
    {
     "data": {
      "text/html": [
       "<style>#sk-container-id-1 {color: black;background-color: white;}#sk-container-id-1 pre{padding: 0;}#sk-container-id-1 div.sk-toggleable {background-color: white;}#sk-container-id-1 label.sk-toggleable__label {cursor: pointer;display: block;width: 100%;margin-bottom: 0;padding: 0.3em;box-sizing: border-box;text-align: center;}#sk-container-id-1 label.sk-toggleable__label-arrow:before {content: \"▸\";float: left;margin-right: 0.25em;color: #696969;}#sk-container-id-1 label.sk-toggleable__label-arrow:hover:before {color: black;}#sk-container-id-1 div.sk-estimator:hover label.sk-toggleable__label-arrow:before {color: black;}#sk-container-id-1 div.sk-toggleable__content {max-height: 0;max-width: 0;overflow: hidden;text-align: left;background-color: #f0f8ff;}#sk-container-id-1 div.sk-toggleable__content pre {margin: 0.2em;color: black;border-radius: 0.25em;background-color: #f0f8ff;}#sk-container-id-1 input.sk-toggleable__control:checked~div.sk-toggleable__content {max-height: 200px;max-width: 100%;overflow: auto;}#sk-container-id-1 input.sk-toggleable__control:checked~label.sk-toggleable__label-arrow:before {content: \"▾\";}#sk-container-id-1 div.sk-estimator input.sk-toggleable__control:checked~label.sk-toggleable__label {background-color: #d4ebff;}#sk-container-id-1 div.sk-label input.sk-toggleable__control:checked~label.sk-toggleable__label {background-color: #d4ebff;}#sk-container-id-1 input.sk-hidden--visually {border: 0;clip: rect(1px 1px 1px 1px);clip: rect(1px, 1px, 1px, 1px);height: 1px;margin: -1px;overflow: hidden;padding: 0;position: absolute;width: 1px;}#sk-container-id-1 div.sk-estimator {font-family: monospace;background-color: #f0f8ff;border: 1px dotted black;border-radius: 0.25em;box-sizing: border-box;margin-bottom: 0.5em;}#sk-container-id-1 div.sk-estimator:hover {background-color: #d4ebff;}#sk-container-id-1 div.sk-parallel-item::after {content: \"\";width: 100%;border-bottom: 1px solid gray;flex-grow: 1;}#sk-container-id-1 div.sk-label:hover label.sk-toggleable__label {background-color: #d4ebff;}#sk-container-id-1 div.sk-serial::before {content: \"\";position: absolute;border-left: 1px solid gray;box-sizing: border-box;top: 0;bottom: 0;left: 50%;z-index: 0;}#sk-container-id-1 div.sk-serial {display: flex;flex-direction: column;align-items: center;background-color: white;padding-right: 0.2em;padding-left: 0.2em;position: relative;}#sk-container-id-1 div.sk-item {position: relative;z-index: 1;}#sk-container-id-1 div.sk-parallel {display: flex;align-items: stretch;justify-content: center;background-color: white;position: relative;}#sk-container-id-1 div.sk-item::before, #sk-container-id-1 div.sk-parallel-item::before {content: \"\";position: absolute;border-left: 1px solid gray;box-sizing: border-box;top: 0;bottom: 0;left: 50%;z-index: -1;}#sk-container-id-1 div.sk-parallel-item {display: flex;flex-direction: column;z-index: 1;position: relative;background-color: white;}#sk-container-id-1 div.sk-parallel-item:first-child::after {align-self: flex-end;width: 50%;}#sk-container-id-1 div.sk-parallel-item:last-child::after {align-self: flex-start;width: 50%;}#sk-container-id-1 div.sk-parallel-item:only-child::after {width: 0;}#sk-container-id-1 div.sk-dashed-wrapped {border: 1px dashed gray;margin: 0 0.4em 0.5em 0.4em;box-sizing: border-box;padding-bottom: 0.4em;background-color: white;}#sk-container-id-1 div.sk-label label {font-family: monospace;font-weight: bold;display: inline-block;line-height: 1.2em;}#sk-container-id-1 div.sk-label-container {text-align: center;}#sk-container-id-1 div.sk-container {/* jupyter's `normalize.less` sets `[hidden] { display: none; }` but bootstrap.min.css set `[hidden] { display: none !important; }` so we also need the `!important` here to be able to override the default hidden behavior on the sphinx rendered scikit-learn.org. See: https://github.com/scikit-learn/scikit-learn/issues/21755 */display: inline-block !important;position: relative;}#sk-container-id-1 div.sk-text-repr-fallback {display: none;}</style><div id=\"sk-container-id-1\" class=\"sk-top-container\"><div class=\"sk-text-repr-fallback\"><pre>SVC(kernel=&#x27;linear&#x27;)</pre><b>In a Jupyter environment, please rerun this cell to show the HTML representation or trust the notebook. <br />On GitHub, the HTML representation is unable to render, please try loading this page with nbviewer.org.</b></div><div class=\"sk-container\" hidden><div class=\"sk-item\"><div class=\"sk-estimator sk-toggleable\"><input class=\"sk-toggleable__control sk-hidden--visually\" id=\"sk-estimator-id-1\" type=\"checkbox\" checked><label for=\"sk-estimator-id-1\" class=\"sk-toggleable__label sk-toggleable__label-arrow\">SVC</label><div class=\"sk-toggleable__content\"><pre>SVC(kernel=&#x27;linear&#x27;)</pre></div></div></div></div></div>"
      ],
      "text/plain": [
       "SVC(kernel='linear')"
      ]
     },
     "execution_count": 18,
     "metadata": {},
     "output_type": "execute_result"
    }
   ],
   "source": [
    "model.fit(X_treino_scaled, y_treino)"
   ]
  },
  {
   "cell_type": "code",
   "execution_count": 19,
   "metadata": {},
   "outputs": [],
   "source": [
    "previsao = model.predict(X_treino_scaled)"
   ]
  },
  {
   "cell_type": "code",
   "execution_count": 20,
   "metadata": {},
   "outputs": [
    {
     "name": "stdout",
     "output_type": "stream",
     "text": [
      "{'accuracy_score': 0.846544506210967, 'confusion_matrix': array([[6640, 1557],\n",
      "       [ 679, 5695]], dtype=int64)}\n"
     ]
    }
   ],
   "source": [
    "SVM_dic_metrics = {'accuracy_score':accuracy_score(previsao, y_treino),\n",
    "                  'confusion_matrix':confusion_matrix(previsao,y_treino)}\n",
    "print(SVM_dic_metrics)"
   ]
  },
  {
   "cell_type": "code",
   "execution_count": 21,
   "metadata": {},
   "outputs": [
    {
     "name": "stdout",
     "output_type": "stream",
     "text": [
      "{'accuracy_score': 0.8417934347477982, 'confusion_matrix': array([[2779,  678],\n",
      "       [ 310, 2478]], dtype=int64)}\n"
     ]
    }
   ],
   "source": [
    "previsao2=model.predict(X_teste_scaled)\n",
    "SVM_dic_metrics2 = {'accuracy_score':accuracy_score(previsao2, y_teste),\n",
    "                  'confusion_matrix':confusion_matrix(previsao2,y_teste)}\n",
    "print(SVM_dic_metrics2)"
   ]
  },
  {
   "cell_type": "code",
   "execution_count": 22,
   "metadata": {},
   "outputs": [
    {
     "data": {
      "text/plain": [
       "<AxesSubplot:>"
      ]
     },
     "execution_count": 22,
     "metadata": {},
     "output_type": "execute_result"
    },
    {
     "data": {
      "image/png": "[encoded data removed]",
      "text/plain": [
       "<Figure size 432x288 with 2 Axes>"
      ]
     },
     "metadata": {
      "needs_background": "light"
     },
     "output_type": "display_data"
    }
   ],
   "source": [
    "import seaborn as sns\n",
    "cm = confusion_matrix(y_teste, previsao2)\n",
    "sns.heatmap(cm, annot=True, fmt='d')\n",
    "#plot da matrix de confusao"
   ]
  },
  {
   "cell_type": "markdown",
   "metadata": {},
   "source": [
    "pip install bayesian-optimization"
   ]
  },
  {
   "cell_type": "code",
   "execution_count": 31,
   "metadata": {},
   "outputs": [],
   "source": [
    "param={'C':[10.1,150],\n",
    "            'gamma':[0.001,0.87]}"
   ]
  },
  {
   "cell_type": "code",
   "execution_count": 28,
   "metadata": {},
   "outputs": [
    {
     "data": {
      "text/plain": [
       "array([0.90123457, 0.89163237, 0.90260631, 0.89986283, 0.87928669,\n",
       "       0.89711934, 0.89437586, 0.91083676, 0.89986283, 0.90672154,\n",
       "       0.89163237, 0.90521978, 0.90659341, 0.88324176, 0.89285714,\n",
       "       0.89835165, 0.89010989, 0.90384615, 0.9010989 , 0.89972527])"
      ]
     },
     "execution_count": 28,
     "metadata": {},
     "output_type": "execute_result"
    }
   ],
   "source": [
    "from sklearn.svm import SVC\n",
    "from sklearn.metrics import accuracy_score,roc_auc_score\n",
    "from sklearn.model_selection import cross_val_score,KFold\n",
    "\n",
    "kf = KFold(n_splits=20,shuffle=True,random_state=44)# shuffle e o embaralhamento\n",
    "cross_val_score(SVC(C=30.1,gamma=0.049,kernel='rbf'),\n",
    "                    X_treino_scaled,y_treino,cv=kf,scoring=\"accuracy\")"
   ]
  },
  {
   "cell_type": "markdown",
   "metadata": {},
   "source": [
    "### Otimizacao Baysiana + Cross validation"
   ]
  },
  {
   "cell_type": "markdown",
   "metadata": {},
   "source": [
    "<b>cross validation</b>, evita que cararcteriscas importantes deixem de ser escolhidas para fazer o treinamento do meu modelo, como padrao costumo usar 5 validacoes dessa selecao para garantir que o vies seixa baixo e poder avaliar a variancia do modelo<br><br>\n",
    "<b>Metodo de Otimizacao de Bayes</b> metodo tem como funcao de um ponto aletorio, criar uma pontos de otimizacao no hiperparametros de modo que ele escolha o mais promissor executado. Exemplo dentro de 5 Execuções obtivemos <b>[89,85,87,88,89.1]</b>, ele selecionara baseado no melhor ponto os Hyperparametro(Exploration explotation tradeoff)<br><br>\n"
   ]
  },
  {
   "cell_type": "code",
   "execution_count": 32,
   "metadata": {},
   "outputs": [
    {
     "name": "stdout",
     "output_type": "stream",
     "text": [
      "|   iter    |  target   |     C     |   gamma   |\n",
      "-------------------------------------------------\n",
      "| \u001b[0m 1       \u001b[0m | \u001b[0m 0.8958  \u001b[0m | \u001b[0m 31.46   \u001b[0m | \u001b[0m 0.2637  \u001b[0m |\n",
      "| \u001b[95m 2       \u001b[0m | \u001b[95m 0.8959  \u001b[0m | \u001b[95m 18.78   \u001b[0m | \u001b[95m 0.4006  \u001b[0m |\n",
      "| \u001b[0m 3       \u001b[0m | \u001b[0m 0.8848  \u001b[0m | \u001b[0m 127.0   \u001b[0m | \u001b[0m 0.8066  \u001b[0m |\n",
      "| \u001b[0m 4       \u001b[0m | \u001b[0m 0.8852  \u001b[0m | \u001b[0m 111.8   \u001b[0m | \u001b[0m 0.6688  \u001b[0m |\n",
      "| \u001b[0m 5       \u001b[0m | \u001b[0m 0.8888  \u001b[0m | \u001b[0m 47.76   \u001b[0m | \u001b[0m 0.5607  \u001b[0m |\n",
      "| \u001b[0m 6       \u001b[0m | \u001b[0m 0.8882  \u001b[0m | \u001b[0m 19.94   \u001b[0m | \u001b[0m 0.6458  \u001b[0m |\n",
      "| \u001b[0m 7       \u001b[0m | \u001b[0m 0.8953  \u001b[0m | \u001b[0m 18.86   \u001b[0m | \u001b[0m 0.4271  \u001b[0m |\n",
      "| \u001b[0m 8       \u001b[0m | \u001b[0m 0.8913  \u001b[0m | \u001b[0m 17.54   \u001b[0m | \u001b[0m 0.572   \u001b[0m |\n",
      "| \u001b[0m 9       \u001b[0m | \u001b[0m 0.8857  \u001b[0m | \u001b[0m 32.26   \u001b[0m | \u001b[0m 0.7317  \u001b[0m |\n",
      "| \u001b[0m 10      \u001b[0m | \u001b[0m 0.8776  \u001b[0m | \u001b[0m 31.02   \u001b[0m | \u001b[0m 0.008864\u001b[0m |\n",
      "| \u001b[95m 11      \u001b[0m | \u001b[95m 0.8975  \u001b[0m | \u001b[95m 54.1    \u001b[0m | \u001b[95m 0.08182 \u001b[0m |\n",
      "| \u001b[0m 12      \u001b[0m | \u001b[0m 0.8899  \u001b[0m | \u001b[0m 101.9   \u001b[0m | \u001b[0m 0.02272 \u001b[0m |\n",
      "| \u001b[95m 13      \u001b[0m | \u001b[95m 0.8976  \u001b[0m | \u001b[95m 53.86   \u001b[0m | \u001b[95m 0.06559 \u001b[0m |\n",
      "| \u001b[0m 14      \u001b[0m | \u001b[0m 0.8907  \u001b[0m | \u001b[0m 53.95   \u001b[0m | \u001b[0m 0.3539  \u001b[0m |\n",
      "| \u001b[0m 15      \u001b[0m | \u001b[0m 0.8896  \u001b[0m | \u001b[0m 31.51   \u001b[0m | \u001b[0m 0.5764  \u001b[0m |\n",
      "| \u001b[0m 16      \u001b[0m | \u001b[0m 0.8967  \u001b[0m | \u001b[0m 31.7    \u001b[0m | \u001b[0m 0.1686  \u001b[0m |\n",
      "| \u001b[0m 17      \u001b[0m | \u001b[0m 0.8869  \u001b[0m | \u001b[0m 18.59   \u001b[0m | \u001b[0m 0.7043  \u001b[0m |\n",
      "| \u001b[95m 18      \u001b[0m | \u001b[95m 0.8994  \u001b[0m | \u001b[95m 18.84   \u001b[0m | \u001b[95m 0.1133  \u001b[0m |\n",
      "| \u001b[0m 19      \u001b[0m | \u001b[0m 0.8767  \u001b[0m | \u001b[0m 18.59   \u001b[0m | \u001b[0m 0.009785\u001b[0m |\n",
      "| \u001b[0m 20      \u001b[0m | \u001b[0m 0.8848  \u001b[0m | \u001b[0m 115.4   \u001b[0m | \u001b[0m 0.7154  \u001b[0m |\n",
      "| \u001b[0m 21      \u001b[0m | \u001b[0m 0.8994  \u001b[0m | \u001b[0m 18.92   \u001b[0m | \u001b[0m 0.2135  \u001b[0m |\n",
      "| \u001b[0m 22      \u001b[0m | \u001b[0m 0.889   \u001b[0m | \u001b[0m 19.03   \u001b[0m | \u001b[0m 0.03706 \u001b[0m |\n",
      "| \u001b[0m 23      \u001b[0m | \u001b[0m 0.8626  \u001b[0m | \u001b[0m 52.51   \u001b[0m | \u001b[0m 0.002603\u001b[0m |\n",
      "| \u001b[0m 24      \u001b[0m | \u001b[0m 0.8849  \u001b[0m | \u001b[0m 34.61   \u001b[0m | \u001b[0m 0.7794  \u001b[0m |\n",
      "| \u001b[0m 25      \u001b[0m | \u001b[0m 0.8881  \u001b[0m | \u001b[0m 135.7   \u001b[0m | \u001b[0m 0.4625  \u001b[0m |\n",
      "| \u001b[0m 26      \u001b[0m | \u001b[0m 0.8965  \u001b[0m | \u001b[0m 31.46   \u001b[0m | \u001b[0m 0.2779  \u001b[0m |\n",
      "| \u001b[0m 27      \u001b[0m | \u001b[0m 0.8933  \u001b[0m | \u001b[0m 31.8    \u001b[0m | \u001b[0m 0.4037  \u001b[0m |\n",
      "| \u001b[0m 28      \u001b[0m | \u001b[0m 0.8829  \u001b[0m | \u001b[0m 53.61   \u001b[0m | \u001b[0m 0.01606 \u001b[0m |\n",
      "| \u001b[0m 29      \u001b[0m | \u001b[0m 0.8949  \u001b[0m | \u001b[0m 54.39   \u001b[0m | \u001b[0m 0.03991 \u001b[0m |\n",
      "| \u001b[95m 30      \u001b[0m | \u001b[95m 0.9001  \u001b[0m | \u001b[95m 31.98   \u001b[0m | \u001b[95m 0.09909 \u001b[0m |\n",
      "| \u001b[0m 31      \u001b[0m | \u001b[0m 0.899   \u001b[0m | \u001b[0m 32.24   \u001b[0m | \u001b[0m 0.1047  \u001b[0m |\n",
      "| \u001b[0m 32      \u001b[0m | \u001b[0m 0.8771  \u001b[0m | \u001b[0m 32.53   \u001b[0m | \u001b[0m 0.007898\u001b[0m |\n",
      "| \u001b[0m 33      \u001b[0m | \u001b[0m 0.8962  \u001b[0m | \u001b[0m 32.11   \u001b[0m | \u001b[0m 0.2415  \u001b[0m |\n",
      "| \u001b[0m 34      \u001b[0m | \u001b[0m 0.8578  \u001b[0m | \u001b[0m 32.07   \u001b[0m | \u001b[0m 0.002317\u001b[0m |\n",
      "| \u001b[0m 35      \u001b[0m | \u001b[0m 0.899   \u001b[0m | \u001b[0m 18.85   \u001b[0m | \u001b[0m 0.187   \u001b[0m |\n",
      "=================================================\n",
      "{'C': 31.978230210002195, 'gamma': 0.09909296967491561} 0.9000763334514517\n"
     ]
    }
   ],
   "source": [
    "from bayes_opt import BayesianOptimization,UtilityFunction\n",
    "\n",
    "\n",
    "def train_mod(C,gamma):\n",
    "    score=cross_val_score(SVC(C=C,gamma=gamma,kernel='rbf'),\n",
    "                    X_treino_scaled,y_treino,cv=5,scoring=\"accuracy\").mean()\n",
    "    return score\n",
    "\n",
    "\n",
    "opt = BayesianOptimization( train_mod , \n",
    "                            param,\n",
    "                            random_state=777)\n",
    "                            \n",
    "opt.maximize(init_points=5,n_iter=30)# ele treina ate 5 pontos e escolhe a mais promisora\n",
    "print(opt.max['params'],opt.max['target'])"
   ]
  },
  {
   "cell_type": "code",
   "execution_count": 110,
   "metadata": {},
   "outputs": [
    {
     "name": "stdout",
     "output_type": "stream",
     "text": [
      "0.2010929696749156 32.07823020900219\n",
      "0.39347295877469735 32.266838039566885\n",
      "0.4954729587746973 32.36683803856688\n",
      "0.5974729587746974 32.46683803756688\n",
      "0.6994729587746974 32.566838036566885\n"
     ]
    },
    {
     "data": {
      "text/plain": [
       "([{'acuracia': 0.9036028823058446,\n",
       "   'c': 32.07823020900219,\n",
       "   'gamma': 0.2010929696749156},\n",
       "  {'acuracia': 0.9010408326661329,\n",
       "   'c': 32.266838039566885,\n",
       "   'gamma': 0.39347295877469735},\n",
       "  {'acuracia': 0.898959167333867,\n",
       "   'c': 32.36683803856688,\n",
       "   'gamma': 0.4954729587746973},\n",
       "  {'acuracia': 0.8955964771817454,\n",
       "   'c': 32.46683803756688,\n",
       "   'gamma': 0.5974729587746974},\n",
       "  {'acuracia': 0.8946357085668535,\n",
       "   'c': 32.566838036566885,\n",
       "   'gamma': 0.6994729587746974}],\n",
       " 0.099999999,\n",
       " 0.102)"
      ]
     },
     "execution_count": 110,
     "metadata": {},
     "output_type": "execute_result"
    }
   ],
   "source": [
    "def best_model(cv,params):\n",
    "    '''\n",
    "        funcao com a ideia de eploracao local, apos encontrar melhores parametros tentamos dentro\n",
    "        de um espcao pequeno encontrar o melhor modelo\n",
    "    '''\n",
    "    inc_c = 0 # incremento c\n",
    "    C,gama= params\n",
    "    inc_g=0 # incremento gama\n",
    "    pm = [] \n",
    "    ii=1\n",
    "    for   i in range(cv):\n",
    "        inc_c  = 0.099999999   \n",
    "        inc_g = 0.102  \n",
    "        cc = C+(inc_c*ii)\n",
    "        gm  = gama+ (inc_g*ii)\n",
    "        ii= (np.euler_gamma*cv)+i\n",
    "        print(gm,cc)\n",
    "        model2 = SVC(C=cc, gamma =gm)\n",
    "        model2.fit(X_treino_scaled, y_treino)\n",
    "        prev2 = model2.predict(X_teste_scaled)\n",
    "        pm.append({'acuracia':accuracy_score(y_teste,prev2),'c':cc,'gamma':gm})\n",
    "    return pm,inc_c,inc_g\n",
    "\n",
    "best_model(5,(opt.max['params']['C'],opt.max['params']['gamma']))"
   ]
  },
  {
   "cell_type": "code",
   "execution_count": 111,
   "metadata": {},
   "outputs": [
    {
     "data": {
      "text/plain": [
       "0.9036028823058446"
      ]
     },
     "execution_count": 111,
     "metadata": {},
     "output_type": "execute_result"
    }
   ],
   "source": [
    "\n",
    "model2 = SVC(C=32.07823020900219, gamma =0.2010929696749156)\n",
    "model2.fit(X_treino_scaled, y_treino)\n",
    "prev2 = model2.predict(X_teste_scaled)     \n",
    "accuracy_score(y_teste,prev2) "
   ]
  },
  {
   "cell_type": "markdown",
   "metadata": {},
   "source": [
    "##### Apartir da busca otimizada de bayes encontramos a acuracia media de 90.001 %, considerando que efetuamos a validacoes na base para obter o melhor conjunto de treinamentos. Dado isso foi feito a construcao de um metodo para encontrar o melhor estimador local baseado na amplitde definida como 5 e obtivemos 90.36% "
   ]
  },
  {
   "cell_type": "markdown",
   "metadata": {},
   "source": [
    "## Obrigado"
   ]
  }
 ],
 "metadata": {
  "kernelspec": {
   "display_name": "Python 3.9.12 ('base')",
   "language": "python",
   "name": "python3"
  },
  "language_info": {
   "codemirror_mode": {
    "name": "ipython",
    "version": 3
   },
   "file_extension": ".py",
   "mimetype": "text/x-python",
   "name": "python",
   "nbconvert_exporter": "python",
   "pygments_lexer": "ipython3",
   "version": "3.9.12"
  },
  "orig_nbformat": 4,
  "vscode": {
   "interpreter": {
    "hash": "4f8615f1cda2a11f782ba972b5b6f6f9848cdfdc733b0cbafbbc9a871cc9c72c"
   }
  }
 },
 "nbformat": 4,
 "nbformat_minor": 2
}
