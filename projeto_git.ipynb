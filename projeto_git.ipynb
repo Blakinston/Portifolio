{
 "cells": [
  {
   "cell_type": "markdown",
   "metadata": {},
   "source": [
    "Trabalhando com Git "
   ]
  },
  {
   "cell_type": "markdown",
   "metadata": {},
   "source": [
    "Sistemas de controle de versão locais : os primeiros SCV, criados para gerenciamento de codigo fonte.Armazenado localmente<br>\n",
    "Sistemas centralizado: armazenado no servidor, processo compartilhado <br>\n",
    "Sistemas de controle de versao distribuidos: todo histoico esta em todas as maquinas(GIT,MERCURIAL,BITKEEPER)\n"
   ]
  },
  {
   "cell_type": "markdown",
   "metadata": {},
   "source": [
    "<style>\n",
    "h2 {\n",
    "\tcolor: green;\n",
    "}\n",
    "</style>\n",
    "\n",
    "<h2>Tres Estados</h2><br> \n",
    "modificado(working): snapshot atual, arquivos q estou trabalhando.Arquivos modificados ou removidos sao marcados como modificado<br>\n",
    "preparado(stage): marcados em sua versao para serem armazenados na versao marcada. Vai para Stage antes do commit <br>\n",
    "consolidado: modificacoes salvas"
   ]
  },
  {
   "cell_type": "markdown",
   "metadata": {},
   "source": [
    "comando para criar repositorio<br>\n",
    "<t>git init ."
   ]
  },
  {
   "cell_type": "markdown",
   "metadata": {},
   "source": [
    "Checkout: retorna para o ultimo commit, descarta tudo q ainda nao comitei<br>\n",
    "revert: rollback, remove aquele estado mandendo os outros e mantendo ele no historico: Usado quando nao iremos precisar de alguma funcionalidade no sistema e devemos remover<br><br>\n",
    "Reset: reseta para o master, nao gera outro commit<br>\n",
    "<b>Modos</b>\n",
    "git reset  idcommit --modo <br>\n",
    "--hard: reseta e volta ate o commit <br>\n",
    "--soft nao meche no indice ou diretorio, somente muda o HEAD para o commit atual<br>\n",
    "-- mixed: reseta stage, indice mas nao a arvore"
   ]
  },
  {
   "cell_type": "markdown",
   "metadata": {},
   "source": []
  },
  {
   "cell_type": "code",
   "execution_count": 2,
   "metadata": {},
   "outputs": [],
   "source": [
    "import pandas as pd \n",
    "from sklearn.datasets import load_iris\n",
    "\n",
    "iris = load_iris()"
   ]
  },
  {
   "cell_type": "code",
   "execution_count": 3,
   "metadata": {},
   "outputs": [
    {
     "data": {
      "text/plain": [
       "array([[5.1, 3.5, 1.4, 0.2],\n",
       "       [4.9, 3. , 1.4, 0.2],\n",
       "       [4.7, 3.2, 1.3, 0.2],\n",
       "       [4.6, 3.1, 1.5, 0.2]])"
      ]
     },
     "execution_count": 3,
     "metadata": {},
     "output_type": "execute_result"
    }
   ],
   "source": [
    "iris.data[:4]"
   ]
  },
  {
   "cell_type": "code",
   "execution_count": 4,
   "metadata": {},
   "outputs": [
    {
     "data": {
      "text/plain": [
       "array([[510., 350., 140.,  20.],\n",
       "       [490., 300., 140.,  20.],\n",
       "       [470., 320., 130.,  20.],\n",
       "       [460., 310., 150.,  20.],\n",
       "       [500., 360., 140.,  20.],\n",
       "       [540., 390., 170.,  40.],\n",
       "       [460., 340., 140.,  30.],\n",
       "       [500., 340., 150.,  20.],\n",
       "       [440., 290., 140.,  20.],\n",
       "       [490., 310., 150.,  10.],\n",
       "       [540., 370., 150.,  20.],\n",
       "       [480., 340., 160.,  20.],\n",
       "       [480., 300., 140.,  10.],\n",
       "       [430., 300., 110.,  10.],\n",
       "       [580., 400., 120.,  20.],\n",
       "       [570., 440., 150.,  40.],\n",
       "       [540., 390., 130.,  40.],\n",
       "       [510., 350., 140.,  30.],\n",
       "       [570., 380., 170.,  30.],\n",
       "       [510., 380., 150.,  30.],\n",
       "       [540., 340., 170.,  20.],\n",
       "       [510., 370., 150.,  40.],\n",
       "       [460., 360., 100.,  20.],\n",
       "       [510., 330., 170.,  50.],\n",
       "       [480., 340., 190.,  20.],\n",
       "       [500., 300., 160.,  20.],\n",
       "       [500., 340., 160.,  40.],\n",
       "       [520., 350., 150.,  20.],\n",
       "       [520., 340., 140.,  20.],\n",
       "       [470., 320., 160.,  20.],\n",
       "       [480., 310., 160.,  20.],\n",
       "       [540., 340., 150.,  40.],\n",
       "       [520., 410., 150.,  10.],\n",
       "       [550., 420., 140.,  20.],\n",
       "       [490., 310., 150.,  20.],\n",
       "       [500., 320., 120.,  20.],\n",
       "       [550., 350., 130.,  20.],\n",
       "       [490., 360., 140.,  10.],\n",
       "       [440., 300., 130.,  20.],\n",
       "       [510., 340., 150.,  20.],\n",
       "       [500., 350., 130.,  30.],\n",
       "       [450., 230., 130.,  30.],\n",
       "       [440., 320., 130.,  20.],\n",
       "       [500., 350., 160.,  60.],\n",
       "       [510., 380., 190.,  40.],\n",
       "       [480., 300., 140.,  30.],\n",
       "       [510., 380., 160.,  20.],\n",
       "       [460., 320., 140.,  20.],\n",
       "       [530., 370., 150.,  20.],\n",
       "       [500., 330., 140.,  20.],\n",
       "       [700., 320., 470., 140.],\n",
       "       [640., 320., 450., 150.],\n",
       "       [690., 310., 490., 150.],\n",
       "       [550., 230., 400., 130.],\n",
       "       [650., 280., 460., 150.],\n",
       "       [570., 280., 450., 130.],\n",
       "       [630., 330., 470., 160.],\n",
       "       [490., 240., 330., 100.],\n",
       "       [660., 290., 460., 130.],\n",
       "       [520., 270., 390., 140.],\n",
       "       [500., 200., 350., 100.],\n",
       "       [590., 300., 420., 150.],\n",
       "       [600., 220., 400., 100.],\n",
       "       [610., 290., 470., 140.],\n",
       "       [560., 290., 360., 130.],\n",
       "       [670., 310., 440., 140.],\n",
       "       [560., 300., 450., 150.],\n",
       "       [580., 270., 410., 100.],\n",
       "       [620., 220., 450., 150.],\n",
       "       [560., 250., 390., 110.],\n",
       "       [590., 320., 480., 180.],\n",
       "       [610., 280., 400., 130.],\n",
       "       [630., 250., 490., 150.],\n",
       "       [610., 280., 470., 120.],\n",
       "       [640., 290., 430., 130.],\n",
       "       [660., 300., 440., 140.],\n",
       "       [680., 280., 480., 140.],\n",
       "       [670., 300., 500., 170.],\n",
       "       [600., 290., 450., 150.],\n",
       "       [570., 260., 350., 100.],\n",
       "       [550., 240., 380., 110.],\n",
       "       [550., 240., 370., 100.],\n",
       "       [580., 270., 390., 120.],\n",
       "       [600., 270., 510., 160.],\n",
       "       [540., 300., 450., 150.],\n",
       "       [600., 340., 450., 160.],\n",
       "       [670., 310., 470., 150.],\n",
       "       [630., 230., 440., 130.],\n",
       "       [560., 300., 410., 130.],\n",
       "       [550., 250., 400., 130.],\n",
       "       [550., 260., 440., 120.],\n",
       "       [610., 300., 460., 140.],\n",
       "       [580., 260., 400., 120.],\n",
       "       [500., 230., 330., 100.],\n",
       "       [560., 270., 420., 130.],\n",
       "       [570., 300., 420., 120.],\n",
       "       [570., 290., 420., 130.],\n",
       "       [620., 290., 430., 130.],\n",
       "       [510., 250., 300., 110.],\n",
       "       [570., 280., 410., 130.],\n",
       "       [630., 330., 600., 250.],\n",
       "       [580., 270., 510., 190.],\n",
       "       [710., 300., 590., 210.],\n",
       "       [630., 290., 560., 180.],\n",
       "       [650., 300., 580., 220.],\n",
       "       [760., 300., 660., 210.],\n",
       "       [490., 250., 450., 170.],\n",
       "       [730., 290., 630., 180.],\n",
       "       [670., 250., 580., 180.],\n",
       "       [720., 360., 610., 250.],\n",
       "       [650., 320., 510., 200.],\n",
       "       [640., 270., 530., 190.],\n",
       "       [680., 300., 550., 210.],\n",
       "       [570., 250., 500., 200.],\n",
       "       [580., 280., 510., 240.],\n",
       "       [640., 320., 530., 230.],\n",
       "       [650., 300., 550., 180.],\n",
       "       [770., 380., 670., 220.],\n",
       "       [770., 260., 690., 230.],\n",
       "       [600., 220., 500., 150.],\n",
       "       [690., 320., 570., 230.],\n",
       "       [560., 280., 490., 200.],\n",
       "       [770., 280., 670., 200.],\n",
       "       [630., 270., 490., 180.],\n",
       "       [670., 330., 570., 210.],\n",
       "       [720., 320., 600., 180.],\n",
       "       [620., 280., 480., 180.],\n",
       "       [610., 300., 490., 180.],\n",
       "       [640., 280., 560., 210.],\n",
       "       [720., 300., 580., 160.],\n",
       "       [740., 280., 610., 190.],\n",
       "       [790., 380., 640., 200.],\n",
       "       [640., 280., 560., 220.],\n",
       "       [630., 280., 510., 150.],\n",
       "       [610., 260., 560., 140.],\n",
       "       [770., 300., 610., 230.],\n",
       "       [630., 340., 560., 240.],\n",
       "       [640., 310., 550., 180.],\n",
       "       [600., 300., 480., 180.],\n",
       "       [690., 310., 540., 210.],\n",
       "       [670., 310., 560., 240.],\n",
       "       [690., 310., 510., 230.],\n",
       "       [580., 270., 510., 190.],\n",
       "       [680., 320., 590., 230.],\n",
       "       [670., 330., 570., 250.],\n",
       "       [670., 300., 520., 230.],\n",
       "       [630., 250., 500., 190.],\n",
       "       [650., 300., 520., 200.],\n",
       "       [620., 340., 540., 230.],\n",
       "       [590., 300., 510., 180.]])"
      ]
     },
     "execution_count": 4,
     "metadata": {},
     "output_type": "execute_result"
    }
   ],
   "source": [
    "iris.data * 100"
   ]
  },
  {
   "cell_type": "code",
   "execution_count": 5,
   "metadata": {},
   "outputs": [
    {
     "data": {
      "text/plain": [
       "array([0, 0, 0, 0, 0, 0, 0, 0, 0, 0, 0, 0, 0, 0, 0, 0, 0, 0, 0, 0, 0, 0,\n",
       "       0, 0, 0, 0, 0, 0, 0, 0, 0, 0, 0, 0, 0, 0, 0, 0, 0, 0, 0, 0, 0, 0,\n",
       "       0, 0, 0, 0, 0, 0, 1, 1, 1, 1, 1, 1, 1, 1, 1, 1, 1, 1, 1, 1, 1, 1,\n",
       "       1, 1, 1, 1, 1, 1, 1, 1, 1, 1, 1, 1, 1, 1, 1, 1, 1, 1, 1, 1, 1, 1,\n",
       "       1, 1, 1, 1, 1, 1, 1, 1, 1, 1, 1, 1, 2, 2, 2, 2, 2, 2, 2, 2, 2, 2,\n",
       "       2, 2, 2, 2, 2, 2, 2, 2, 2, 2, 2, 2, 2, 2, 2, 2, 2, 2, 2, 2, 2, 2,\n",
       "       2, 2, 2, 2, 2, 2, 2, 2, 2, 2, 2, 2, 2, 2, 2, 2, 2, 2])"
      ]
     },
     "execution_count": 5,
     "metadata": {},
     "output_type": "execute_result"
    }
   ],
   "source": [
    "iris.target"
   ]
  },
  {
   "cell_type": "code",
   "execution_count": 11,
   "metadata": {},
   "outputs": [
    {
     "data": {
      "text/plain": [
       "<seaborn.axisgrid.FacetGrid at 0x22d5f024f10>"
      ]
     },
     "execution_count": 11,
     "metadata": {},
     "output_type": "execute_result"
    },
    {
     "data": {
      "image/png": "[encoded data removed]",
      "text/plain": [
       "<Figure size 360x360 with 1 Axes>"
      ]
     },
     "metadata": {
      "needs_background": "light"
     },
     "output_type": "display_data"
    }
   ],
   "source": [
    "import seaborn as sn \n",
    "\n",
    "sn.displot(iris.data[0])"
   ]
  },
  {
   "cell_type": "code",
   "execution_count": 14,
   "metadata": {},
   "outputs": [
    {
     "data": {
      "text/plain": [
       "<AxesSubplot:ylabel='Count'>"
      ]
     },
     "execution_count": 14,
     "metadata": {},
     "output_type": "execute_result"
    },
    {
     "data": {
      "image/png": "[encoded data removed]",
      "text/plain": [
       "<Figure size 432x288 with 1 Axes>"
      ]
     },
     "metadata": {
      "needs_background": "light"
     },
     "output_type": "display_data"
    }
   ],
   "source": [
    "import seaborn as sn \n",
    "\n",
    "sn.histplot(iris.data[0])"
   ]
  },
  {
   "cell_type": "markdown",
   "metadata": {},
   "source": [
    "# Branch"
   ]
  },
  {
   "cell_type": "markdown",
   "metadata": {},
   "source": [
    "quando criamos uma feature nova, criamos um novo branch <br>\n",
    "estou trabalhando no mesmo projeto porem estou desenvolvendo analise de segemento de clientes<br>\n",
    "e minha equipe esta desenvolvendo analise de produtos ambas sao do mesmo projeto, assim criamos um branch novo"
   ]
  },
  {
   "cell_type": "markdown",
   "metadata": {},
   "source": [
    "git barnch 'nome barnch' : cria-se branch<br>\n",
    "git checkout 'nome banch' : muda o branch<br>\n",
    "git branch -d 'nome branch', ele ira pedir para dar merge antes caso queira forca basta usar -D"
   ]
  },
  {
   "cell_type": "code",
   "execution_count": null,
   "metadata": {},
   "outputs": [],
   "source": []
  },
  {
   "cell_type": "code",
   "execution_count": 1,
   "metadata": {},
   "outputs": [
    {
     "ename": "SyntaxError",
     "evalue": "invalid syntax (3349747592.py, line 1)",
     "output_type": "error",
     "traceback": [
      "\u001b[1;36m  Input \u001b[1;32mIn [1]\u001b[1;36m\u001b[0m\n\u001b[1;33m    import plotly.express import ex\u001b[0m\n\u001b[1;37m                          ^\u001b[0m\n\u001b[1;31mSyntaxError\u001b[0m\u001b[1;31m:\u001b[0m invalid syntax\n"
     ]
    }
   ],
   "source": [
    "import plotly.express import ex \n"
   ]
  },
  {
   "cell_type": "code",
   "execution_count": null,
   "metadata": {},
   "outputs": [],
   "source": [
    "<<<<<<< REMOTE CELL DELETED >>>>>>>\n",
    "te"
   ]
  }
 ],
 "metadata": {
  "kernelspec": {
   "display_name": "Python 3.9.12 ('base')",
   "language": "python",
   "name": "python3"
  },
  "language_info": {
   "codemirror_mode": {
    "name": "ipython",
    "version": 3
   },
   "file_extension": ".py",
   "mimetype": "text/x-python",
   "name": "python",
   "nbconvert_exporter": "python",
   "pygments_lexer": "ipython3",
   "version": "3.9.12"
  },
  "vscode": {
   "interpreter": {
    "hash": "4f8615f1cda2a11f782ba972b5b6f6f9848cdfdc733b0cbafbbc9a871cc9c72c"
   }
  }
 },
 "nbformat": 4,
 "nbformat_minor": 2
}
